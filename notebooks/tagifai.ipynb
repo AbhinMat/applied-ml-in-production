{
 "cells": [
  {
   "cell_type": "markdown",
   "metadata": {},
   "source": [
    "# Applied ML in Production"
   ]
  },
  {
   "cell_type": "markdown",
   "metadata": {},
   "source": [
    "## Annotation"
   ]
  },
  {
   "cell_type": "code",
   "execution_count": 1,
   "metadata": {},
   "outputs": [],
   "source": [
    "from collections import Counter, OrderedDict\n",
    "import ipywidgets as widgets\n",
    "import itertools\n",
    "import json\n",
    "import pandas as pd\n",
    "from urllib.request import urlopen"
   ]
  },
  {
   "cell_type": "code",
   "execution_count": 2,
   "metadata": {},
   "outputs": [
    {
     "name": "stdout",
     "output_type": "stream",
     "text": [
      "{\n",
      "  \"id\": 324,\n",
      "  \"title\": \"AdverTorch\",\n",
      "  \"description\": \"A Toolbox for Adversarial Robustness Research\",\n",
      "  \"tags\": [\n",
      "    \"code\",\n",
      "    \"library\",\n",
      "    \"security\",\n",
      "    \"adversarial-learning\",\n",
      "    \"adversarial-attacks\",\n",
      "    \"adversarial-perturbations\"\n",
      "  ]\n",
      "}\n"
     ]
    }
   ],
   "source": [
    "# Load projects\n",
    "url = \"https://raw.githubusercontent.com/madewithml/datasets/main/projects.json\"\n",
    "projects = json.loads(urlopen(url).read())\n",
    "print (json.dumps(projects[-305], indent=2))"
   ]
  },
  {
   "cell_type": "code",
   "execution_count": 3,
   "metadata": {},
   "outputs": [
    {
     "name": "stdout",
     "output_type": "stream",
     "text": [
      "400 tags\n"
     ]
    }
   ],
   "source": [
    "# Load tags\n",
    "url = \"https://raw.githubusercontent.com/madewithml/datasets/main/tags.json\"\n",
    "tags_dict = OrderedDict(json.loads(urlopen(url).read()))\n",
    "print (f\"{len(tags_dict)} tags\")"
   ]
  },
  {
   "cell_type": "code",
   "execution_count": 16,
   "metadata": {},
   "outputs": [
    {
     "data": {
      "application/vnd.jupyter.widget-view+json": {
       "model_id": "5445b6b18fc144ec86cbbcec71a48206",
       "version_major": 2,
       "version_minor": 0
      },
      "text/plain": [
       "interactive(children=(Dropdown(description='tag', index=283, options=('3d', 'action-localization', 'action-rec…"
      ]
     },
     "metadata": {},
     "output_type": "display_data"
    }
   ],
   "source": [
    "@widgets.interact(tag=list(tags_dict.keys()))\n",
    "def display_tag_details(tag='question-answering'):\n",
    "    print (json.dumps(tags_dict[tag], indent=2))"
   ]
  },
  {
   "cell_type": "code",
   "execution_count": 5,
   "metadata": {},
   "outputs": [
    {
     "name": "stdout",
     "output_type": "stream",
     "text": [
      "2032 projects\n"
     ]
    },
    {
     "data": {
      "text/html": [
       "<div>\n",
       "<style scoped>\n",
       "    .dataframe tbody tr th:only-of-type {\n",
       "        vertical-align: middle;\n",
       "    }\n",
       "\n",
       "    .dataframe tbody tr th {\n",
       "        vertical-align: top;\n",
       "    }\n",
       "\n",
       "    .dataframe thead th {\n",
       "        text-align: right;\n",
       "    }\n",
       "</style>\n",
       "<table border=\"1\" class=\"dataframe\">\n",
       "  <thead>\n",
       "    <tr style=\"text-align: right;\">\n",
       "      <th></th>\n",
       "      <th>id</th>\n",
       "      <th>title</th>\n",
       "      <th>description</th>\n",
       "      <th>tags</th>\n",
       "    </tr>\n",
       "  </thead>\n",
       "  <tbody>\n",
       "    <tr>\n",
       "      <th>0</th>\n",
       "      <td>2438</td>\n",
       "      <td>How to Deal with Files in Google Colab: What Y...</td>\n",
       "      <td>How to supercharge your Google Colab experienc...</td>\n",
       "      <td>[article, google-colab, colab, file-system]</td>\n",
       "    </tr>\n",
       "    <tr>\n",
       "      <th>1</th>\n",
       "      <td>2437</td>\n",
       "      <td>Rasoee</td>\n",
       "      <td>A powerful web and mobile application that ide...</td>\n",
       "      <td>[api, article, code, dataset, paper, research,...</td>\n",
       "    </tr>\n",
       "    <tr>\n",
       "      <th>2</th>\n",
       "      <td>2436</td>\n",
       "      <td>Machine Learning Methods Explained (+ Examples)</td>\n",
       "      <td>Most common techniques used in data science pr...</td>\n",
       "      <td>[article, deep-learning, machine-learning, dim...</td>\n",
       "    </tr>\n",
       "    <tr>\n",
       "      <th>3</th>\n",
       "      <td>2435</td>\n",
       "      <td>Top “Applied Data Science” Papers from ECML-PK...</td>\n",
       "      <td>Explore the innovative world of Machine Learni...</td>\n",
       "      <td>[article, deep-learning, machine-learning, adv...</td>\n",
       "    </tr>\n",
       "    <tr>\n",
       "      <th>4</th>\n",
       "      <td>2434</td>\n",
       "      <td>OpenMMLab Computer Vision</td>\n",
       "      <td>MMCV is a python library for CV research and s...</td>\n",
       "      <td>[article, code, pytorch, library, 3d, computer...</td>\n",
       "    </tr>\n",
       "  </tbody>\n",
       "</table>\n",
       "</div>"
      ],
      "text/plain": [
       "     id                                              title  \\\n",
       "0  2438  How to Deal with Files in Google Colab: What Y...   \n",
       "1  2437                                             Rasoee   \n",
       "2  2436    Machine Learning Methods Explained (+ Examples)   \n",
       "3  2435  Top “Applied Data Science” Papers from ECML-PK...   \n",
       "4  2434                          OpenMMLab Computer Vision   \n",
       "\n",
       "                                         description  \\\n",
       "0  How to supercharge your Google Colab experienc...   \n",
       "1  A powerful web and mobile application that ide...   \n",
       "2  Most common techniques used in data science pr...   \n",
       "3  Explore the innovative world of Machine Learni...   \n",
       "4  MMCV is a python library for CV research and s...   \n",
       "\n",
       "                                                tags  \n",
       "0        [article, google-colab, colab, file-system]  \n",
       "1  [api, article, code, dataset, paper, research,...  \n",
       "2  [article, deep-learning, machine-learning, dim...  \n",
       "3  [article, deep-learning, machine-learning, adv...  \n",
       "4  [article, code, pytorch, library, 3d, computer...  "
      ]
     },
     "execution_count": 5,
     "metadata": {},
     "output_type": "execute_result"
    }
   ],
   "source": [
    "# Create dataframe\n",
    "df = pd.DataFrame(projects)\n",
    "print (f\"{len(df)} projects\")\n",
    "df.head(5)"
   ]
  },
  {
   "cell_type": "code",
   "execution_count": 6,
   "metadata": {},
   "outputs": [],
   "source": [
    "# Input\n",
    "df['text'] = df.title + \" \" + df.description"
   ]
  },
  {
   "cell_type": "code",
   "execution_count": 7,
   "metadata": {},
   "outputs": [],
   "source": [
    "def filter(l, include=[], exclude=[]):\n",
    "    \"\"\"Filter a list using inclusion and exclusion lists of items.\"\"\"\n",
    "    filtered = [item for item in l if item in include and item not in exclude]\n",
    "    return filtered"
   ]
  },
  {
   "cell_type": "code",
   "execution_count": 8,
   "metadata": {},
   "outputs": [],
   "source": [
    "# Inclusion/exclusion criteria for tags\n",
    "include = list(tags_dict.keys())\n",
    "exclude = ['machine-learning', 'deep-learning',  'data-science',\n",
    "           'neural-networks', 'python', 'r', 'visualization',\n",
    "           'natural-language-processing', 'computer-vision']"
   ]
  },
  {
   "cell_type": "code",
   "execution_count": 9,
   "metadata": {},
   "outputs": [],
   "source": [
    "# Filter tags for each project\n",
    "df.tags = df.tags.apply(filter, include=include, exclude=exclude)\n",
    "tags = Counter(itertools.chain.from_iterable(df.tags.values))"
   ]
  },
  {
   "cell_type": "code",
   "execution_count": 10,
   "metadata": {
    "tags": [
     "hide-input"
    ]
   },
   "outputs": [
    {
     "data": {
      "application/vnd.jupyter.widget-view+json": {
       "model_id": "acb3f909ca184aff9c81fce05d796211",
       "version_major": 2,
       "version_minor": 0
      },
      "text/plain": [
       "interactive(children=(IntSlider(value=30, description='min_tag_freq', max=258), Output()), _dom_classes=('widg…"
      ]
     },
     "metadata": {},
     "output_type": "display_data"
    }
   ],
   "source": [
    "@widgets.interact(min_tag_freq=(0, tags.most_common()[0][1]))\n",
    "def separate_tags_by_freq(min_tag_freq=30):\n",
    "    tags_above_freq = Counter(tag for tag in tags.elements()\n",
    "                                    if tags[tag] >= min_tag_freq)\n",
    "    tags_below_freq = Counter(tag for tag in tags.elements()\n",
    "                                    if tags[tag] < min_tag_freq)\n",
    "    print (\"Most popular tags:\\n\", tags_above_freq.most_common(5))\n",
    "    print (\"\\nTags that just made the cut:\\n\", tags_above_freq.most_common()[-5:])\n",
    "    print (\"\\nTags that just missed the cut:\\n\", tags_below_freq.most_common(5))"
   ]
  },
  {
   "cell_type": "code",
   "execution_count": 11,
   "metadata": {},
   "outputs": [],
   "source": [
    "# Filter tags that have fewer than <min_tag_freq> occurances\n",
    "min_tag_freq = 30\n",
    "tags_above_freq = Counter(tag for tag in tags.elements() \n",
    "                          if tags[tag] >= min_tag_freq)\n",
    "df.tags = df.tags.apply(filter, include=list(tags_above_freq.keys()))"
   ]
  },
  {
   "cell_type": "code",
   "execution_count": 12,
   "metadata": {},
   "outputs": [
    {
     "name": "stdout",
     "output_type": "stream",
     "text": [
      "1239 projects\n"
     ]
    }
   ],
   "source": [
    "# Remove projects with no more remaining relevant tags\n",
    "df = df[df.tags.map(len) > 0]\n",
    "print (f\"{len(df)} projects\")"
   ]
  },
  {
   "cell_type": "code",
   "execution_count": null,
   "metadata": {},
   "outputs": [],
   "source": []
  }
 ],
 "metadata": {
  "kernelspec": {
   "display_name": "tagifai",
   "language": "python",
   "name": "tagifai"
  },
  "language_info": {
   "codemirror_mode": {
    "name": "ipython",
    "version": 3
   },
   "file_extension": ".py",
   "mimetype": "text/x-python",
   "name": "python",
   "nbconvert_exporter": "python",
   "pygments_lexer": "ipython3",
   "version": "3.8.5"
  },
  "toc-autonumbering": false,
  "toc-showmarkdowntxt": false
 },
 "nbformat": 4,
 "nbformat_minor": 4
}
